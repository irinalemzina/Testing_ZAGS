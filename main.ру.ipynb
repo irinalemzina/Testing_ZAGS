{
 "cells": [
  {
   "cell_type": "code",
   "execution_count": null,
   "metadata": {},
   "outputs": [],
   "source": [
    "import requests  \n",
    "  \n",
    "  \n",
    "def get_weather(latitude, longitude):  \n",
    "    url = f\"https://api.open-meteo.com/v1/forecast?latitude={latitude}&longitude={longitude}&current_weather=true\"  \n",
    "    response = requests.get(url)  \n",
    "  \n",
    "    if response.status_code == 200:  \n",
    "        data = response.json()  \n",
    "        weather = data.get(\"current_weather\", {})  \n",
    "        return {  \n",
    "            \"Температура\": f\"{weather.get('temperature', 'N/A')}°C\",  \n",
    "            \"Скорость ветра\": f\"{weather.get('windspeed', 'N/A')} м/с\",  \n",
    "            \"Направление ветра\": weather.get('winddirection', 'N/A'),  \n",
    "            \"Время обновления\": weather.get('time', 'N/A')  \n",
    "        }  \n",
    "    else:  \n",
    "        return {\"Ошибка\": \"Не удалось получить данные о погоде\"}  \n",
    "  \n",
    "  \n",
    "moscow_coord = (55.7558, 37.6176)  # Широта и долгота для Москвы  \n",
    "  \n",
    "if __name__ == \"__main__\":  \n",
    "    weather_info = get_weather(*moscow_coord)  \n",
    "    print(weather_info)"
   ]
  }
 ],
 "metadata": {
  "language_info": {
   "name": "python"
  }
 },
 "nbformat": 4,
 "nbformat_minor": 2
}
